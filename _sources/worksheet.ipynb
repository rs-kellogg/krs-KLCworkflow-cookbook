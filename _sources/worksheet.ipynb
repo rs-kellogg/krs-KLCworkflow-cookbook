{
 "cells": [
  {
   "cell_type": "markdown",
   "metadata": {},
   "source": [
    "\n",
    "\n",
    "### VS Code Demo \n",
    "\n",
    "\n",
    "#### **Demo**  \n",
    "\n",
    "**Sidebar** \n",
    "- Explorer\n",
    "- Search\n",
    "- Source Control\n",
    "- Extensions\n",
    "- Remote Explorer\n",
    "\n",
    "**Workspace**  \n",
    "- Open up a folder on KLC  \n",
    "\n",
    "**Explorer**  \n",
    "- Create new file, open, save, close\n",
    "- Get some [sample code](https://github.com/rs-kellogg/book_scrape/blob/main/playground/sales_tax.py) to local computer \n",
    "- Transfer file to KLC\n",
    "- Rename, transfer back to local\n",
    "\n",
    "**Terminal**  \n",
    "- Access Terminal: View -> Terminal\n",
    "- Open/Close Terminal by ` Ctrl+` `\n",
    "- Echo “hello world!” >> hello.txt \n",
    "- `tmux`\n",
    "    - tmux enables a continuous, uninterrupted workflow by allowing you to persist sessions across disconnections or switch seamlessly between tasks\n",
    "    - [tmux cheatsheet](./tmux.ipynb)\n",
    "\n",
    "**Conda/Mamba Environment**\n",
    "- Command Palette\n",
    "    - Type \">Python: Select Interpreter\"\n",
    "    - Enter interpreter path: /kellogg/software/envs/python-env\n",
    "\n",
    "**Editor**\n",
    "- IntelliSense\n",
    "- Outline\n",
    "- Fold code\n",
    "- Navigate with breadcrumbs\n",
    "- Comment out\n",
    "- Indent\n",
    "- Split Pane\n",
    "- Search\n",
    "- Run in terminal\n",
    "- Auto-complete\n",
    "- Python Interactive Window\n",
    "    - Define Jupyter-like code cells within Python code using a # %% comment:\n",
    "\n",
    "\n",
    " "
   ]
  }
 ],
 "metadata": {
  "language_info": {
   "name": "python"
  }
 },
 "nbformat": 4,
 "nbformat_minor": 2
}
