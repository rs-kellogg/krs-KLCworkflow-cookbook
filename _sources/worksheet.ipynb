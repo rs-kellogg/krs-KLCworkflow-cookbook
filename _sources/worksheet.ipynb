{
 "cells": [
  {
   "cell_type": "markdown",
   "metadata": {},
   "source": [
    "\n",
    "\n",
    "### VS Code Demo \n",
    "\n",
    "**Layout**  \n",
    "- Sidebar \n",
    "- Workspace  \n",
    "- Explorer  \n",
    "- Terminal  \n",
    "\n",
    "**Mini project: web scrape a book site**  \n",
    "- Conda/Mamba Environment  \n",
    "    - Type command \"Python: Select Interpreter\"\n",
    "    - Enter interpreter path: /kellogg/software/envs/python-env\n",
    "- [Book website](http://books.toscrape.com/)\n",
    "- [Data](https://github.com/rs-kellogg/book_scrape/blob/main/data/books_list.csv)\n",
    "- [Script](https://github.com/rs-kellogg/book_scrape/blob/main/scripts/dl_book_pages_demo.py)\n",
    "\n",
    "\n",
    "\n",
    "**BONUS**  \n",
    "- Python Interactive Window\n",
    "    - Define Jupyter-like code cells within Python code using a # %% comment:\n",
    "\n",
    "\n",
    " "
   ]
  }
 ],
 "metadata": {
  "language_info": {
   "name": "python"
  }
 },
 "nbformat": 4,
 "nbformat_minor": 2
}
