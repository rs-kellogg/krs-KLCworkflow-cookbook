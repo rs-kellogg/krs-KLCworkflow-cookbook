{
 "cells": [
  {
   "cell_type": "markdown",
   "metadata": {},
   "source": [
    "### Project Demo 🗺️\n",
    "\n",
    "![VS Code](./images/python-workflow.png)\n",
    "\n",
    "**Mini project: web scrape a book site**  \n",
    "- [Setup Python](./python.ipynb)\n",
    "    - Type command \"Python: Select Interpreter\"\n",
    "    - Enter interpreter path: /kellogg/software/envs/python-env\n",
    "\n",
    "- [Book website](http://books.toscrape.com/)\n",
    "\n",
    "- [Data](https://github.com/rs-kellogg/book_scrape/blob/main/data/books_list.csv)\n",
    "\n",
    "- [Script](https://github.com/rs-kellogg/book_scrape/blob/main/scripts/dl_book_pages_demo.py)\n",
    "\n",
    "\n"
   ]
  }
 ],
 "metadata": {
  "language_info": {
   "name": "python"
  }
 },
 "nbformat": 4,
 "nbformat_minor": 2
}
