{
 "cells": [
  {
   "cell_type": "markdown",
   "metadata": {},
   "source": [
    "### Project Demo 🗺️\n",
    "\n",
    "![VS Code](./images/python-workflow.png)\n",
    "\n",
    "**Mini project: web scrape a book site**  \n",
    "- [Book website](http://books.toscrape.com/)\n",
    "\n",
    "- [Data](https://github.com/rs-kellogg/book_scrape/blob/main/data/books_list.csv)\n",
    "\n",
    "- [Script](https://github.com/rs-kellogg/book_scrape/blob/main/scripts/dl_book_pages_demo.py)\n",
    "\n",
    "- Python Conda environment for this workshop\n",
    "```\n",
    "module load mamba\n",
    "source activate /kellogg/software/envs/python-env\n",
    "```\n",
    "\n"
   ]
  }
 ],
 "metadata": {
  "language_info": {
   "name": "python"
  }
 },
 "nbformat": 4,
 "nbformat_minor": 2
}
