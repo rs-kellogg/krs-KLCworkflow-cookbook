{
 "cells": [
  {
   "cell_type": "markdown",
   "metadata": {},
   "source": [
    "\n",
    "#### <font color='purple'>SSH Passwordless Login</font>\n",
    "\n",
    "1. Generate an SSH key pair   \n",
    "   Run the following command on the **Terminal** app on macOs or **Command Prompt**/**PowerShell** on Windows:\n",
    "   ```bash\n",
    "   ssh-keygen -t rsa\n",
    "   ```\n",
    "  \n",
    "   After running this, two files are created in your `~/.ssh` directory:  \n",
    "   | File         | Description                                           |\n",
    "   |--------------|-------------------------------------------------------|\n",
    "   | `id_rsa`     | <font color='red'>Your **private** key (keep this secure and never share it)</font> |\n",
    "   | `id_rsa.pub` | Your **public** key (safe to share with servers)          |  \n",
    "  \n",
    "2. Copy the public key `id_rsa.pub` to KLC  \n",
    "\n",
    "   On macOS or Linux:  \n",
    "   - Run the following command on the **Terminal**:  \n",
    "      ```bash\n",
    "      ssh-copy-id your_netid@klc0202.quest.northwestern.edu\n",
    "      ```\n",
    "\n",
    "   Add manually (work for all OS):\n",
    "   - On your local machine, open `id_rsa.pub` in a text editor and copy its contents.\n",
    "   - Open an SSH session to KLC, create the `.ssh` directory if it doesn’t exist:\n",
    "      ```bash\n",
    "      mkdir -p ~/.ssh\n",
    "      ```\n",
    "   - Then paste the contents of `id_rsa.pub` into the file:\n",
    "      ```bash\n",
    "      nano ~/.ssh/authorized_keys\n",
    "      ```\n",
    "  \n",
    "3. Update permission on KLC\n",
    "   - Open an SSH session to KLC, update permission\n",
    "     ```bash\n",
    "     chmod 700 ~/.ssh\n",
    "     chmod 600 ~/.ssh/authorized_keys\n",
    "     ```"
   ]
  }
 ],
 "metadata": {
  "language_info": {
   "name": "python"
  }
 },
 "nbformat": 4,
 "nbformat_minor": 2
}
