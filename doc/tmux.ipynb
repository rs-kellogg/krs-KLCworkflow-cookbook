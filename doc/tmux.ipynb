{
 "cells": [
  {
   "cell_type": "markdown",
   "metadata": {},
   "source": [
    "### tmux Essentials Cheatsheet 📄\n",
    "| Action                         | Command                        |\n",
    "|--------------------------------|--------------------------------|\n",
    "| Start a new session            | `tmux`                         |\n",
    "| Reattach to last session       | `tmux attach` or `tmux a`      |\n",
    "| Detach from session            | `Ctrl+b`, then `d`             |\n",
    "| Create new window              | `Ctrl+b`, then `c`             |\n",
    "| Switch window (next/prev)      | `Ctrl+b`, then `n` / `p`       |\n",
    "| Close pane/window              | `exit` or `Ctrl+d`             |\n",
    "\n",
    "For handling more than one tmux sessions:\n",
    "| Action                         | Command                        |\n",
    "|--------------------------------|--------------------------------|\n",
    "| List sessions                  | `tmux ls`                      |\n",
    "| Start a named session          | `tmux new -s mysession`        |\n",
    "| Attach to a named session      | `tmux attach -t mysession`     |\n"
   ]
  }
 ],
 "metadata": {
  "language_info": {
   "name": "python"
  }
 },
 "nbformat": 4,
 "nbformat_minor": 2
}
