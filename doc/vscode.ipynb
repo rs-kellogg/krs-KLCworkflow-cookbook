{
 "cells": [
  {
   "cell_type": "markdown",
   "metadata": {},
   "source": [
    "### VS Code\n",
    "\n",
    "#### <font color='purple'>Outline </font>\n",
    "In this session, you'll explore various features of **Visual Studio Code (VS Code)** through guided, practical tasks.\n",
    "\n",
    "Topics we'll cover:\n",
    "1. Installing essential extensions  \n",
    "2. Setting up a remote connection to **KLC**  \n",
    "3. Using the **VS Code Terminal**  \n",
    "4. Exploring the **VS Code File Explorer**  \n",
    "5. Working with **VS Code Source Control**"
   ]
  },
  {
   "cell_type": "markdown",
   "metadata": {},
   "source": [
    "\n",
    "\n",
    "#### <font color='purple'>Essential Extensions </font>\n",
    "\n",
    "- **Remote - SSH**   \n",
    "  Allows you to securely connect to a remote cluster (like KLC) and work with files and terminals as if they were local.\n",
    "\n",
    "- **Remote Explorer**  \n",
    "  Gives a graphical view of your SSH targets and remote sessions, making connection management easier.\n",
    "\n",
    "- **Python**  \n",
    "  Adds powerful features for Python development, including code intelligence, linting, and debugging tools.\n",
    "\n",
    "- **GitHub Copilot**  \n",
    "  AI pair programmer that suggests code completions and functions based on your context.\n",
    "\n",
    "- **GitHub Copilot Chat**  \n",
    "  Lets you interact with Copilot via natural language — ask questions, get code explanations, or generate snippets.\n",
    "\n",
    "- **Jupyter**   \n",
    "  Enables opening and running Jupyter Notebooks inside VS Code — useful for data exploration and machine learning workflows.\n"
   ]
  },
  {
   "cell_type": "markdown",
   "metadata": {},
   "source": [
    "#### <font color='purple'>Set up KLC connection </font>\n",
    "\n",
    "  - Set up SSH Passwordless Login following instructions [here](sshpasswordless.ipynb) \n",
    "  - Remote - SSH\n",
    "    - Go to **Command Palette** by `⌘⇧P` on mac or `Ctrl+Shift+P` on Windows\n",
    "    - Type \"Remote\" and select \"Remote-SSH: Connect to Host\"\n",
    "    - Select \"Add New SSH Host\" then type `ssh your_netid@klc0202.quest.northwestern.edu`\n",
    "  "
   ]
  },
  {
   "cell_type": "markdown",
   "metadata": {},
   "source": [
    "#### <font color='purple'>VS Code Terminal</font>\n",
    "- Open/Close Terminal by ` Ctrl+` `\n",
    "- `tmux`\n",
    "    - tmux enables a continuous, uninterrupted workflow by allowing you to persist sessions across disconnections or switch seamlessly between tasks\n",
    "    - [tmux cheatsheet](./tmux.ipynb)"
   ]
  },
  {
   "cell_type": "markdown",
   "metadata": {},
   "source": [
    "#### <font color='purple'>BONUS</font>\n",
    "- [VS Code Keyboard Shortcuts](./vscode_shortcut.ipynb)"
   ]
  }
 ],
 "metadata": {
  "language_info": {
   "name": "python"
  }
 },
 "nbformat": 4,
 "nbformat_minor": 2
}
