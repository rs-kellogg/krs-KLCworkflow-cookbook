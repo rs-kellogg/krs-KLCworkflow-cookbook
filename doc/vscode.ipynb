{
 "cells": [
  {
   "cell_type": "markdown",
   "metadata": {},
   "source": [
    "### VS Code\n",
    "\n",
    "#### <font color='purple'>Outline </font>\n",
    "In this session, you'll explore various features of **Visual Studio Code (VS Code)** through guided, practical tasks.\n",
    "\n",
    "Topics we'll cover:\n",
    "1. Installing essential extensions  \n",
    "2. Setting Up SSH Passwordless Login\n",
    "3. Setting up a remote connection to **KLC**  \n",
    "4. Using the **VS Code Terminal**  \n",
    "5. Exploring the **VS Code File Explorer**  \n",
    "6. Working with **VS Code Source Control**"
   ]
  },
  {
   "cell_type": "markdown",
   "metadata": {},
   "source": [
    "\n",
    "\n",
    "#### <font color='purple'>Essential Extensions </font>\n",
    "\n",
    "- Remote - SSH   \n",
    "  Allows you to securely connect to a remote cluster (like KLC) and work with files and terminals as if they were local.\n",
    "\n",
    "- Remote Explorer  \n",
    "  Gives a graphical view of your SSH targets and remote sessions, making connection management easier.\n",
    "\n",
    "- Python  \n",
    "  Adds powerful features for Python development, including code intelligence, linting, and debugging tools.\n",
    "\n",
    "- GitHub Copilot  \n",
    "  AI pair programmer that suggests code completions and functions based on your context.\n",
    "\n",
    "- GitHub Copilot Chat  \n",
    "  Lets you interact with Copilot via natural language — ask questions, get code explanations, or generate snippets.\n",
    "\n",
    "- Jupyter   \n",
    "  Enables opening and running Jupyter Notebooks inside VS Code — useful for data exploration and machine learning workflows.\n"
   ]
  },
  {
   "cell_type": "markdown",
   "metadata": {},
   "source": [
    "#### <font color='purple'>Set up KLC connection </font>\n",
    "\n",
    "  - Set up ssh key\n",
    "  - Show how the \"Remote - SSH\" extension opens up a remote folder\n",
    "  - Open a terminal *on the cluster* inside VS Code"
   ]
  },
  {
   "cell_type": "markdown",
   "metadata": {},
   "source": [
    "\n",
    "#### <font color='purple'>SSH Passwordless Login</font>\n",
    "\n",
    "\n",
    "1. **Generate an SSH key pair**  \n",
    "   Run the following command on the Terminal app on macOs or Command Prompt/PowerShell on Windows:\n",
    "   ```bash\n",
    "   ssh-keygen -t rsa\n",
    "   ```\n",
    "\n",
    "   After running this, two files are created in your `~/.ssh` directory:\n",
    "\n",
    "   - `id_rsa` — your **private key** (keep this secure and never share it)  \n",
    "   - `id_rsa.pub` — your **public key** (safe to share with servers)\n",
    "\n",
    "2. **Copy the public key to the server**\n",
    "   Add your public key `id_rsa.pub` to the remote server’s `~/.ssh/authorized_keys` file.\n",
    "\n",
    "   AutomaticOn macOS or Linux:\n",
    "      Use `ssh-copy-id` to copy your public key to the server:\n",
    "      ```bash\n",
    "      ssh-copy-id netid@klc0202.quest.northwestern.edu\n",
    "      ```\n",
    "\n",
    "   On Windows:\n",
    "   1. Open an SSH session to the KLC server:\n",
    "      ```bash\n",
    "      ssh netid@klc0202.quest.northwestern.edu\n",
    "      ```\n",
    "   2. On your local machine, open `id_rsa.pub` in a text editor and copy its contents.\n",
    "   3. On the server, create the `.ssh` directory if it doesn’t exist:\n",
    "      ```bash\n",
    "      mkdir -p ~/.ssh\n",
    "      ```\n",
    "   4. Then paste the contents of `id_rsa.pub` into the file:\n",
    "      ```bash\n",
    "      nano ~/.ssh/authorized_keys\n",
    "      ```\n",
    "      Paste the key, save, and exit.\n"
   ]
  }
 ],
 "metadata": {
  "language_info": {
   "name": "python"
  }
 },
 "nbformat": 4,
 "nbformat_minor": 2
}
