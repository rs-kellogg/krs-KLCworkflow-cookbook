{
 "cells": [
  {
   "cell_type": "markdown",
   "metadata": {},
   "source": [
    "\n",
    "### VS Code Keyboard Shortcuts ⌨️ \n",
    "\n",
    "| Action                            | macOS                    | Windows                |\n",
    "|----------------------------------|--------------------------|------------------------|\n",
    "| **Comment Line**                 | `⌘/`                     | `Ctrl+/`               |\n",
    "| **Increase Indent**              | `⌘]`                     | `Ctrl+]`               |\n",
    "| **Decrease Indent**              | `⌘[`                     | `Ctrl+[`               |\n",
    "||||\n",
    "| **Go to File**                   | `⌘P`                     | `Ctrl+P`               |\n",
    "| **Switch Tabs**                  | `Ctrl+1`, `Ctrl+2`, ...          | `Ctrl+1`, `Ctrl+2`, ...|\n",
    "| **Save**                         | `⌘S`                     | `Ctrl+S`               |\n",
    "| **Close Tab**                    | `⌘W`                     | `Ctrl+W`               |\n",
    "||||\n",
    "| **Open Terminal**                | `` Ctrl+` ``             | `` Ctrl+` ``           |\n",
    "| **Command Palette**              | `⌘⇧P`                    | `Ctrl+Shift+P`         |\n",
    "| **Toggle Sidebar**               | `⌘B`                     | `Ctrl+B`               |\n",
    "||||\n",
    "| **Find in File**                 | `⌘F`                     | `Ctrl+F`               |\n",
    "| **Find Across Files**           | `⌘⇧F`                    | `Ctrl+Shift+F`         |\n"
   ]
  }
 ],
 "metadata": {
  "language_info": {
   "name": "python"
  }
 },
 "nbformat": 4,
 "nbformat_minor": 2
}
