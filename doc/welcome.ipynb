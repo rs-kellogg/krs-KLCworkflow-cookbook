{
 "cells": [
  {
   "cell_type": "markdown",
   "metadata": {},
   "source": [
    "# Welcome\n",
    "\n",
    "This is the website for the **Kellogg Research Support KLC Workflow Cookbook**. \n",
    "\n",
    "\n",
    "This book aims to walk you through setting up VS Code with the Remote SSH extension, connecting seamlessly to KLC, managing your code with Git and GitHub, and supercharging your workflow with GitHub & Copilot. \n",
    "\n",
    "\n",
    "The github repo for scripts can be accessed [here](https://github.com/rs-kellogg/krs-KLCworkflow-cookbook)."
   ]
  }
 ],
 "metadata": {
  "language_info": {
   "name": "python"
  }
 },
 "nbformat": 4,
 "nbformat_minor": 2
}
