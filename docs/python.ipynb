{
 "cells": [
  {
   "cell_type": "markdown",
   "id": "829c0f95",
   "metadata": {},
   "source": [
    "# Python Setup 🐍\n",
    "\n",
    "## Set up Python environment\n",
    "\n",
    "### Set up your Conda/Mamba environment  \n",
    "\n",
    "```bash\n",
    "module load mamba\n",
    "source activate /kellogg/software/envs/python-env\n",
    "mamba install ipykernel\n",
    "```\n",
    "\n",
    "### Or, optionally create your own environment\n",
    "\n",
    "```bash\n",
    "mamba create -n myenv python\n",
    "source activate myenv\n",
    "```\n",
    "\n",
    "### Select the workspace Python interpreter in VSCode\n",
    "\n",
    "- Type command \"Python: Select Interpreter\"  \n",
    "\n",
    "![Select](./images/python-select_interpreter.png)\n",
    "\n",
    "- Enter interpreter path\n",
    "    - Use your Conda environment path or `/kellogg/software/envs/python-env`  \n",
    "\n",
    "![Enter-path](./images/python-enter_interpreter_path.png)\n",
    "\n",
    "\n"
   ]
  },
  {
   "cell_type": "markdown",
   "id": "5ee21b84",
   "metadata": {},
   "source": []
  }
 ],
 "metadata": {
  "language_info": {
   "name": "python"
  }
 },
 "nbformat": 4,
 "nbformat_minor": 5
}
