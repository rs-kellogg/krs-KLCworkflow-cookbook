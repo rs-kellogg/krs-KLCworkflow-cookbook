{
 "cells": [
  {
   "cell_type": "markdown",
   "id": "829c0f95",
   "metadata": {},
   "source": [
    "# Python Setup 🐍\n",
    "\n",
    "\n",
    "## Set up Python environment\n",
    "- Set up your Conda/Mamba environment  \n",
    "\n",
    "- Type command \"Python: Select Interpreter\"  \n",
    "\n",
    "![Select](./images/python-select_interpreter.png)\n",
    "\n",
    "- Enter interpreter path: use your Conda environment path or /kellogg/software/envs/python-env  \n",
    "\n",
    "![Enter-path](./images/python-enter_interpreter_path.png)\n",
    "\n",
    "\n",
    "\n",
    "\n",
    "**BONUS**  \n",
    "- Python Interactive Window\n",
    "    - Define Jupyter-like code cells within Python code using a # %% comment:"
   ]
  }
 ],
 "metadata": {
  "language_info": {
   "name": "python"
  }
 },
 "nbformat": 4,
 "nbformat_minor": 5
}
