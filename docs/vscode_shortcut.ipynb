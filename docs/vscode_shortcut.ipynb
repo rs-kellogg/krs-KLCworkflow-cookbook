{
 "cells": [
  {
   "cell_type": "markdown",
   "metadata": {},
   "source": [
    "\n",
    "### VS Code Keyboard Shortcuts ⌨️ \n",
    "\n",
    "| Action                            | macOS                    | Windows                |\n",
    "|----------------------------------|--------------------------|------------------------|\n",
    "|<font color='purple'>Copilot inline chat</font>|||\n",
    "| **Activate chat**                 | `⌘I`                     | `Ctrl+I`               |\n",
    "|<font color='purple'>File edit</font>|||\n",
    "| **Comment Line**                 | `⌘/`                     | `Ctrl+/`               |\n",
    "| **Increase Indent**              | `⌘]`                     | `Ctrl+]`               |\n",
    "| **Decrease Indent**              | `⌘[`                     | `Ctrl+[`               |\n",
    "|<font color='purple'>Tab navigation</font>|||\n",
    "| **Go to File**                   | `⌘P`                     | `Ctrl+P`               |\n",
    "| **Switch Tabs**                  | `Ctrl+1`, `Ctrl+2`, ...          | `Ctrl+1`, `Ctrl+2`, ...|\n",
    "| **Save**                         | `⌘S`                     | `Ctrl+S`               |\n",
    "| **Close Tab**                    | `⌘W`                     | `Ctrl+W`               |\n",
    "|<font color='purple'>VS Code function</font>|||\n",
    "| **Open Terminal**                | `` Ctrl+` ``             | `` Ctrl+` ``           |\n",
    "| **Command Palette**              | `⌘⇧P`                    | `Ctrl+Shift+P`         |\n",
    "| **Toggle Sidebar**               | `⌘B`                     | `Ctrl+B`               |\n",
    "|<font color='purple'>Text search</font>|||\n",
    "| **Find in File**                 | `⌘F`                     | `Ctrl+F`               |\n",
    "| **Find Across Files**           | `⌘⇧F`                    | `Ctrl+Shift+F`         |\n"
   ]
  }
 ],
 "metadata": {
  "language_info": {
   "name": "python"
  }
 },
 "nbformat": 4,
 "nbformat_minor": 2
}
