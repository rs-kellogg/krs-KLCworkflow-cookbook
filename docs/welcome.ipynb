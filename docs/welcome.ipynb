{
 "cells": [
  {
   "cell_type": "markdown",
   "metadata": {},
   "source": [
    "# Welcome\n",
    "\n",
    "This is the website for the **Kellogg Research Support KLC Workflow Cookbook**. \n",
    "\n",
    "\n",
    "This book aims to walk you through setting up VS Code with the Remote SSH extension, connecting seamlessly to KLC, managing your code with Git and GitHub, and supercharging your workflow with GitHub & Copilot. \n",
    "\n",
    "\n",
    "The github repo for scripts can be accessed [here](https://github.com/rs-kellogg/krs-KLCworkflow-cookbook)."
   ]
  },
  {
   "cell_type": "markdown",
   "metadata": {},
   "source": [
    "# System Components\n",
    "![KLC](./images/components.png)"
   ]
  },
  {
   "cell_type": "markdown",
   "metadata": {},
   "source": [
    "[VS Code Setup](https://code.visualstudio.com/docs/setup/setup-overview#_set-up-vs-code-for-your-platform)"
   ]
  },
  {
   "cell_type": "markdown",
   "metadata": {},
   "source": [
    "## VS Code Installation Guide\n",
    "1. **Install VS Code**: Download and install Visual Studio Code from the [official website](https://code.visualstudio.com/).\n",
    "2. **Install Remote SSH Extension**: Open VS Code, go to the Extensions view by clicking on the Extensions icon in the Activity Bar on the side of the window, and search for \"Remote - SSH\". Install the extension.\n",
    "4. **Install GitHub Copilot**: Open VS Code, go to the Extensions view, and search for \"GitHub Copilot\". Install the extension.\n",
    "5. **Install Github Copilot Chat**: Open VS Code, go to the Extensions view, and search for \"GitHub Copilot Chat\". Install the extension (may not work on all systems).\n",
    "6. **Install Python extension**: Open VS Code, go to the Extensions view, and search for \"Python microsoft\". Install the extension.\n",
    "7. **Install Jupyter extension**: Open VS Code, go to the Extensions view, and search for \"Jupyter microsoft\". Install the extension.\n"
   ]
  },
  {
   "cell_type": "markdown",
   "metadata": {},
   "source": [
    "## Github Setup\n",
    "1. **Create a GitHub Account**: If you don't have one, create a GitHub account at [github.com](https://github.com/).\n",
    "2. **Sign up for GitHub Copilot**: Go to the [GitHub Copilot page](https://github.com/features/copilot) and sign up for the service. You can choose a free option for now."
   ]
  },
  {
   "cell_type": "markdown",
   "metadata": {},
   "source": []
  },
  {
   "cell_type": "markdown",
   "metadata": {},
   "source": [
    "## Kellogg Linux Cluster (KLC) Setup\n",
    "If you do not already have an account on the Kellogg Linux Cluster (KLC), please contact the KLC support team at [rs@kellogg.northwestern.edu](mailto:rs@kellogg.northwestern.edu).\n",
    "\n",
    "More information about KLC can be found on the [KLC website](https://www.kellogg.northwestern.edu/academics-research/research-support/computing/kellogg-linux-cluster.aspx)."
   ]
  },
  {
   "cell_type": "markdown",
   "metadata": {},
   "source": []
  }
 ],
 "metadata": {
  "language_info": {
   "name": "python"
  }
 },
 "nbformat": 4,
 "nbformat_minor": 2
}
