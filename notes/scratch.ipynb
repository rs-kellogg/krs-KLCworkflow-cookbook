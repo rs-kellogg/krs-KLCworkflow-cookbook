{
 "cells": [
  {
   "cell_type": "markdown",
   "id": "3de38bfe",
   "metadata": {},
   "source": [
    "# this is a test"
   ]
  },
  {
   "cell_type": "code",
   "execution_count": null,
   "id": "879110e0",
   "metadata": {},
   "outputs": [],
   "source": [
    "import sys"
   ]
  },
  {
   "cell_type": "code",
   "execution_count": null,
   "id": "15f43806",
   "metadata": {},
   "outputs": [],
   "source": [
    "print(sys.executable)"
   ]
  },
  {
   "cell_type": "code",
   "execution_count": null,
   "id": "00a7ae7b",
   "metadata": {},
   "outputs": [],
   "source": [
    "from faker import Faker\n",
    "import csv\n",
    "\n",
    "fake = Faker()\n",
    "\n",
    "# Generate 100 rows of random data\n",
    "data = [\n",
    "    {\"fname\": fake.first_name(), \"lname\": fake.last_name(), \"email\": fake.email()}\n",
    "    for _ in range(100)\n",
    "]\n",
    "\n",
    "# Write to a CSV file\n",
    "with open(\"random_data.csv\", \"w\", newline=\"\") as csvfile:\n",
    "    fieldnames = [\"fname\", \"lname\", \"email\"]\n",
    "    writer = csv.DictWriter(csvfile, fieldnames=fieldnames)\n",
    "    writer.writeheader()\n",
    "    writer.writerows(data)\n",
    "\n",
    "print(\"CSV file 'random_data.csv' created with 100 rows of random data.\")"
   ]
  },
  {
   "cell_type": "code",
   "execution_count": null,
   "id": "d1e8fce6",
   "metadata": {},
   "outputs": [],
   "source": [
    "import pandas as pd\n",
    "\n",
    "# Read the CSV file into a DataFrame\n",
    "df_fake_data = pd.read_csv(\"random_data.csv\")\n",
    "\n",
    "# Display the top 10 rows\n",
    "print(df_fake_data.head(10))"
   ]
  }
 ],
 "metadata": {
  "kernelspec": {
   "display_name": "Python 3",
   "language": "python",
   "name": "python3"
  },
  "language_info": {
   "codemirror_mode": {
    "name": "ipython",
    "version": 3
   },
   "file_extension": ".py",
   "mimetype": "text/x-python",
   "name": "python",
   "nbconvert_exporter": "python",
   "pygments_lexer": "ipython3",
   "version": "3.13.3"
  }
 },
 "nbformat": 4,
 "nbformat_minor": 5
}
